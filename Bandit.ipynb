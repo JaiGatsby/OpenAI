{
 "cells": [
  {
   "cell_type": "code",
   "execution_count": 12,
   "metadata": {
    "collapsed": true
   },
   "outputs": [],
   "source": [
    "import tensorflow as tf\n",
    "import numpy as np"
   ]
  },
  {
   "cell_type": "code",
   "execution_count": 13,
   "metadata": {
    "collapsed": true
   },
   "outputs": [],
   "source": [
    "#List out our bandits. Currently bandit 4 (index#3) is set to most often provide a positive reward.\n",
    "bandits = [0.2,0,-0.2,-5]\n",
    "num_bandits = len(bandits)\n",
    "def pullBandit(bandit):\n",
    "    #Get a random number.\n",
    "    result = np.random.randn(1)\n",
    "    if result > bandit:\n",
    "        #return a positive reward.\n",
    "        return 1\n",
    "    else:\n",
    "        #return a negative reward.\n",
    "        return -1"
   ]
  },
  {
   "cell_type": "code",
   "execution_count": 14,
   "metadata": {
    "collapsed": true
   },
   "outputs": [],
   "source": [
    "tf.reset_default_graph()\n",
    "\n",
    "#These two lines established the feed-forward part of the network. This does the actual choosing.\n",
    "weights = tf.Variable(tf.ones([num_bandits]))\n",
    "chosen_action = tf.argmax(weights,0)\n",
    "\n",
    "reward_holder = tf.placeholder(shape=[1],dtype=tf.float32)\n",
    "action_holder = tf.placeholder(shape=[1],dtype=tf.int32)\n",
    "responsible_weight = tf.slice(weights, action_holder,[1])\n",
    "loss = -(tf.log(responsible_weight)*reward_holder)\n",
    "optimizer = tf.train.AdamOptimizer(learning_rate=0.001)\n",
    "update = optimizer.minimize(loss)"
   ]
  },
  {
   "cell_type": "code",
   "execution_count": 16,
   "metadata": {},
   "outputs": [
    {
     "name": "stdout",
     "output_type": "stream",
     "text": [
      "Running reward for the 4 bandits: [-1.  0.  0.  0.]\n",
      "Running reward for the 4 bandits: [ -2.  -1.  -1.  45.]\n",
      "Running reward for the 4 bandits: [ -3.   0.   0.  90.]\n",
      "Running reward for the 4 bandits: [  -4.   -1.    0.  136.]\n",
      "Running reward for the 4 bandits: [  -4.   -1.    0.  182.]\n",
      "Running reward for the 4 bandits: [  -3.   -1.   -1.  228.]\n",
      "Running reward for the 4 bandits: [  -2.    1.   -1.  273.]\n",
      "Running reward for the 4 bandits: [  -4.    3.   -1.  319.]\n",
      "Running reward for the 4 bandits: [  -3.    3.   -1.  366.]\n",
      "Running reward for the 4 bandits: [  -3.    2.   -3.  413.]\n",
      "Running reward for the 4 bandits: [  -5.    2.   -2.  460.]\n",
      "Running reward for the 4 bandits: [  -4.    4.   -2.  507.]\n",
      "Running reward for the 4 bandits: [  -5.    3.   -2.  551.]\n",
      "Running reward for the 4 bandits: [  -4.    2.   -2.  597.]\n",
      "Running reward for the 4 bandits: [  -3.    1.   -3.  642.]\n",
      "Running reward for the 4 bandits: [  -3.    4.   -3.  689.]\n",
      "Running reward for the 4 bandits: [  -3.    7.   -3.  736.]\n",
      "Running reward for the 4 bandits: [  -1.    7.   -2.  783.]\n",
      "Running reward for the 4 bandits: [  -1.   10.    0.  828.]\n",
      "Running reward for the 4 bandits: [  -2.   13.    0.  872.]\n",
      "The agent thinks bandit 4 is the most promising....\n",
      "...and it was right!\n"
     ]
    }
   ],
   "source": [
    "total_episodes = 1000\n",
    "total_reward = np.zeros(num_bandits)\n",
    "e=0.1\n",
    "\n",
    "init =tf.global_variables_initializer()\n",
    "\n",
    "with tf.Session() as sess:\n",
    "    sess.run(init)\n",
    "    i = 0\n",
    "    while i<total_episodes:\n",
    "        \n",
    "        if np.random.rand(1) < e:\n",
    "            action = np.random.randint(num_bandits)#chooses a random bandit\n",
    "        else:\n",
    "            action = sess.run(chosen_action)#chooses the most likely bandit\n",
    "        \n",
    "        reward = pullBandit(bandits[action])\n",
    "        \n",
    "        _,resp,ww = sess.run([update,responsible_weight, weights],feed_dict={reward_holder:[reward],action_holder:[action]})\n",
    "        \n",
    "        total_reward[action] += reward\n",
    "        if i%50 == 0:\n",
    "            print (\"Running reward for the \" + str(num_bandits) + \" bandits: \" + str(total_reward))\n",
    "        i+=1\n",
    "print (\"The agent thinks bandit \" + str(np.argmax(ww)+1)+\" is the most promising....\")\n",
    "\n",
    "if np.argmax(ww)==np.argmax(-np.array(bandits)):\n",
    "    print(\"...and it was right!\")\n",
    "else:\n",
    "    print(\"...and it was wrong!\")"
   ]
  },
  {
   "cell_type": "code",
   "execution_count": null,
   "metadata": {
    "collapsed": true
   },
   "outputs": [],
   "source": []
  }
 ],
 "metadata": {
  "kernelspec": {
   "display_name": "Python 3",
   "language": "python",
   "name": "python3"
  },
  "language_info": {
   "codemirror_mode": {
    "name": "ipython",
    "version": 3
   },
   "file_extension": ".py",
   "mimetype": "text/x-python",
   "name": "python",
   "nbconvert_exporter": "python",
   "pygments_lexer": "ipython3",
   "version": "3.5.3"
  }
 },
 "nbformat": 4,
 "nbformat_minor": 2
}

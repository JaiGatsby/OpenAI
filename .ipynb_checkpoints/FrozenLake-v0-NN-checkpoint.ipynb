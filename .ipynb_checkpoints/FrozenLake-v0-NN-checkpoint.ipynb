{
 "cells": [
  {
   "cell_type": "code",
   "execution_count": 1,
   "metadata": {
    "collapsed": true
   },
   "outputs": [],
   "source": [
    "import tensorflow as tf\n",
    "import gym\n",
    "import numpy as np"
   ]
  },
  {
   "cell_type": "code",
   "execution_count": 2,
   "metadata": {},
   "outputs": [
    {
     "name": "stderr",
     "output_type": "stream",
     "text": [
      "[2017-05-14 13:34:13,711] Making new env: FrozenLake-v0\n"
     ]
    }
   ],
   "source": [
    "env = gym.make(\"FrozenLake-v0\")\n",
    "num_obs = env.observation_space.n\n",
    "num_acts = env.action_space.n"
   ]
  },
  {
   "cell_type": "code",
   "execution_count": 3,
   "metadata": {
    "collapsed": true
   },
   "outputs": [],
   "source": [
    "sratio=[]"
   ]
  },
  {
   "cell_type": "code",
   "execution_count": 21,
   "metadata": {
    "collapsed": true
   },
   "outputs": [],
   "source": [
    "tf.reset_default_graph() # no clue what this does"
   ]
  },
  {
   "cell_type": "markdown",
   "metadata": {},
   "source": [
    "## cries\n",
    "I dont get it. This thing gave me a decent .45-.55 ratio as a single layer NN.<br>\n",
    "Obvious step to try add a hidden layer, what does it do? die and give me .0 ratio"
   ]
  },
  {
   "cell_type": "code",
   "execution_count": 33,
   "metadata": {},
   "outputs": [],
   "source": [
    "# These lines establish the feed-forward part of the network used to choose actions\n",
    "\n",
    "inputs = tf.placeholder(shape=[1,num_obs], dtype=tf.float32) # the input value X\n",
    "nextQ = tf.placeholder(shape=[1,num_acts],dtype=tf.float32) # the target value Y\n",
    "\n",
    "# the weights - 2 layers\n",
    "W_ = tf.Variable(tf.random_uniform([num_obs,10],0,0.01)) # 16x10\n",
    "L1 = tf.nn.relu(tf.matmul(inputs,W_))\n",
    "W = tf.Variable(tf.random_uniform([10,num_acts],0,0.01)) #10x4\n",
    "\n",
    "Qout = tf.matmul(L1,W) #hypothesis?\n",
    "predict = tf.argmax(Qout,1)\n",
    "\n",
    "#Below we obtain the loss by taking the sum of squares difference\n",
    "# between the target and prediction Q values\n",
    "\n",
    "# the above value is computed by using the q-learning bellman equations\n",
    "loss = tf.reduce_sum(tf.square(nextQ-Qout))\n",
    "trainer = tf.train.GradientDescentOptimizer(learning_rate=0.1)\n",
    "updateModel = trainer.minimize(loss)"
   ]
  },
  {
   "cell_type": "code",
   "execution_count": 34,
   "metadata": {
    "collapsed": true
   },
   "outputs": [],
   "source": [
    "init = tf.global_variables_initializer()\n",
    "\n",
    "# Set learning parameters\n",
    "y = .99\n",
    "e = 0.5"
   ]
  },
  {
   "cell_type": "code",
   "execution_count": 35,
   "metadata": {
    "collapsed": true
   },
   "outputs": [],
   "source": [
    "def run_episode(s):\n",
    "        global e\n",
    "        j = 0\n",
    "        rAll =0\n",
    "        #The Q-Network\n",
    "        while j < 99: #to check for timeout\n",
    "            j+=1\n",
    "            #Choose an action with e chance of random action from the Q-network\n",
    "            a,allQ = sess.run([predict,Qout],feed_dict={inputs:np.identity(num_obs)[s:s+1]})\n",
    "            #print(np.identity(num_obs)[s:s+1]) # I think a one-hot vector representation, as obs are discrete\n",
    "            if np.random.rand(1) < e:\n",
    "                a[0] = env.action_space.sample() # the randomly chosen action\n",
    "\n",
    "            #Get new state and reward from environment\n",
    "            s1,r,d,_ = env.step(a[0])\n",
    "            \n",
    "            #Obtain the Q' values by feeding the new state through our network\n",
    "            Q1 = sess.run(Qout,feed_dict={inputs:np.identity(num_obs)[s1:s1+1]})#returns 1x4 of q' values\n",
    "            \n",
    "            #Obtain maxQ' and set our target value for chosen action.\n",
    "            maxQ1 = np.max(Q1)\n",
    "            targetQ = allQ\n",
    "            targetQ[0,a[0]] = r + y*maxQ1 #a[0] is the index of the chosen action\n",
    "            \n",
    "            #Train our network using target and predicted Q values\n",
    "            _,W1 = sess.run([updateModel,W_],feed_dict={inputs:np.identity(num_obs)[s:s+1],nextQ:targetQ})\n",
    "            rAll += r\n",
    "            s = s1\n",
    "            if d == True:\n",
    "                #Reduce chance of random action as we train the model.\n",
    "                e = 1./((i/50) + 10)\n",
    "                break\n",
    "        return rAll, j"
   ]
  },
  {
   "cell_type": "code",
   "execution_count": 36,
   "metadata": {},
   "outputs": [],
   "source": [
    "num_episodes = 5000\n",
    "#create lists to contain total rewards and steps per episode\n",
    "jList = []\n",
    "rList = []\n",
    "with tf.Session() as sess:\n",
    "    sess.run(init)\n",
    "    for i in range(num_episodes):\n",
    "        #Reset environment and get first new observation\n",
    "        s = env.reset()\n",
    "        result,iter_num = run_episode(s)\n",
    "        jList.append(iter_num)\n",
    "        rList.append(result)"
   ]
  },
  {
   "cell_type": "code",
   "execution_count": 37,
   "metadata": {},
   "outputs": [
    {
     "name": "stdout",
     "output_type": "stream",
     "text": [
      "Percent of succesful episodes: 0.0002%\n"
     ]
    }
   ],
   "source": [
    "print (\"Percent of succesful episodes: \" + str(sum(rList)/num_episodes) + \"%\")\n",
    "sratio.append(sum(rList)/num_episodes)"
   ]
  },
  {
   "cell_type": "code",
   "execution_count": 32,
   "metadata": {},
   "outputs": [
    {
     "name": "stdout",
     "output_type": "stream",
     "text": [
      "[0.0012, 0.022, 0.0, 0.4794]\n"
     ]
    }
   ],
   "source": [
    "print(sratio)"
   ]
  },
  {
   "cell_type": "code",
   "execution_count": null,
   "metadata": {
    "collapsed": true
   },
   "outputs": [],
   "source": []
  }
 ],
 "metadata": {
  "kernelspec": {
   "display_name": "Python 3",
   "language": "python",
   "name": "python3"
  },
  "language_info": {
   "codemirror_mode": {
    "name": "ipython",
    "version": 3
   },
   "file_extension": ".py",
   "mimetype": "text/x-python",
   "name": "python",
   "nbconvert_exporter": "python",
   "pygments_lexer": "ipython3",
   "version": "3.5.3"
  }
 },
 "nbformat": 4,
 "nbformat_minor": 2
}
